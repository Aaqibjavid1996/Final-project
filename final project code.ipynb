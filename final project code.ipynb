{
 "cells": [
  {
   "cell_type": "code",
   "execution_count": 35,
   "id": "89af0202",
   "metadata": {},
   "outputs": [
    {
     "name": "stdout",
     "output_type": "stream",
     "text": [
      "version             0\n",
      "doi                 0\n",
      "A_WAVE              0\n",
      "A_YEAR              0\n",
      "A_STUDY             0\n",
      "                ...  \n",
      "v2psprbrch      90360\n",
      "v2psprlnks      90360\n",
      "v2psplats       90360\n",
      "v2xnp_client    90360\n",
      "v2xps_party     90360\n",
      "Length: 606, dtype: int64\n"
     ]
    }
   ],
   "source": [
    "import pandas as pd\n",
    "\n",
    "df = pd.read_csv('WVS_Cross-National_Wave_7_csv_v5_0.csv')\n",
    "# Checking for missing values\n",
    "print(df.isnull().sum())\n",
    "# Removing rows with missing values\n",
    "df_cleaned = df.dropna()\n",
    "\n",
    "\n"
   ]
  },
  {
   "cell_type": "code",
   "execution_count": 7,
   "id": "ae97da23",
   "metadata": {},
   "outputs": [
    {
     "name": "stdout",
     "output_type": "stream",
     "text": [
      "Mean: 7.573263558515699, Median: 8.0, Std Dev: 1.902954616944322\n"
     ]
    }
   ],
   "source": [
    "# Calculating mean, median, and standard deviation\n",
    "mean_wellbeing = df_cleaned['Q49'].mean()\n",
    "median_wellbeing = df_cleaned['Q49'].median()\n",
    "std_wellbeing = df_cleaned['Q49'].std()\n",
    "\n",
    "print(f\"Mean: {mean_wellbeing}, Median: {median_wellbeing}, Std Dev: {std_wellbeing}\")\n"
   ]
  },
  {
   "cell_type": "code",
   "execution_count": 9,
   "id": "4dc3099e",
   "metadata": {},
   "outputs": [
    {
     "name": "stdout",
     "output_type": "stream",
     "text": [
      "      Q49_group Q288_group Q164_group Q250_group Q287_group\n",
      "0          High     Medium     Medium       High        Low\n",
      "1          High       High        Low       High        Low\n",
      "2          High     Medium       High       High        Low\n",
      "3          High     Medium        Low     Medium     Medium\n",
      "4        Medium     Medium     Medium       High     Medium\n",
      "...         ...        ...        ...        ...        ...\n",
      "94273      High        NaN       High       High        NaN\n",
      "94274      High     Medium        Low     Medium        NaN\n",
      "94275      High     Medium       High     Medium        NaN\n",
      "94276    Medium       High     Medium        NaN        NaN\n",
      "94277      High     Medium     Medium       High        NaN\n",
      "\n",
      "[94278 rows x 5 columns]\n"
     ]
    }
   ],
   "source": [
    "\n",
    "\n",
    "# Defining custom bins and labels\n",
    "bins = [1, 3, 7, 10]\n",
    "labels = ['Low', 'Medium', 'High']\n",
    "\n",
    "# List of variables you want to group\n",
    "likert_variables = ['Q49', 'Q288', 'Q164','Q250','Q287']\n",
    "\n",
    "# Apply the grouping for each specified variable\n",
    "for var in likert_variables:\n",
    "    df[f'{var}_group'] = pd.cut(df[var], bins=bins, labels=labels, include_lowest=True)\n",
    "\n",
    "# Display the result\n",
    "print(df[[f'{var}_group' for var in likert_variables]])\n"
   ]
  },
  {
   "cell_type": "code",
   "execution_count": 39,
   "id": "4f39af0c",
   "metadata": {},
   "outputs": [
    {
     "name": "stdout",
     "output_type": "stream",
     "text": [
      "      Q275  Q275\n",
      "1007     3     3\n",
      "1010     3     3\n",
      "1014     3     3\n",
      "1015     6     6\n",
      "1016     3     3\n",
      "...    ...   ...\n",
      "6020     7     7\n",
      "6102     5     5\n",
      "6159     6     6\n",
      "6181     7     7\n",
      "6201     2     2\n",
      "\n",
      "[2102 rows x 2 columns]\n"
     ]
    }
   ],
   "source": [
    "likert_variable_new = 'Q275'\n",
    "\n",
    "# Defining custom bins and labels for the new variable\n",
    "bins_new = [0, 5, 6, 8]\n",
    "labels_new = ['Low', 'Medium', 'High']\n",
    "\n",
    "# Creating a new categorical variable based on the new Likert scale grouping\n",
    "df['Q275'] = pd.cut(df_cleaned[likert_variable_new], bins=bins_new, labels=labels_new, include_lowest=True)\n",
    "\n",
    "# Display the result for the new variable\n",
    "print(df_cleaned[[likert_variable_new, 'Q275']])"
   ]
  },
  {
   "cell_type": "code",
   "execution_count": 14,
   "id": "ea56874a",
   "metadata": {
    "scrolled": true
   },
   "outputs": [
    {
     "name": "stdout",
     "output_type": "stream",
     "text": [
      "Expected Answers for Q275:\n",
      "0        NaN\n",
      "1        NaN\n",
      "2        NaN\n",
      "3        NaN\n",
      "4        NaN\n",
      "        ... \n",
      "94273    NaN\n",
      "94274    NaN\n",
      "94275    NaN\n",
      "94276    NaN\n",
      "94277    NaN\n",
      "Name: Q275_group, Length: 94278, dtype: category\n",
      "Categories (3, object): ['Low' < 'Medium' < 'High']\n"
     ]
    }
   ],
   "source": [
    "expected_answers = df['Q275_group']\n",
    "print(\"Expected Answers for Q275:\")\n",
    "print(expected_answers)"
   ]
  },
  {
   "cell_type": "code",
   "execution_count": 25,
   "id": "1d6ee3d8",
   "metadata": {
    "scrolled": true
   },
   "outputs": [
    {
     "name": "stdout",
     "output_type": "stream",
     "text": [
      "   Variable         VIF\n",
      "0     const  110.731982\n",
      "1       Q49    1.180923\n",
      "2      Q288    1.264284\n",
      "3      Q275    1.399039\n",
      "4      Q250    1.107424\n",
      "5      Q164    1.233572\n",
      "6      Q287    1.313162\n",
      "7      Q262    1.153807\n",
      "8      Q260    1.031062\n",
      "9      Q273    1.074866\n",
      "10      Q45    1.104590\n",
      "11      Q47    1.139999\n"
     ]
    },
    {
     "name": "stderr",
     "output_type": "stream",
     "text": [
      "C:\\Users\\aaqib\\anaconda3\\lib\\site-packages\\statsmodels\\tsa\\tsatools.py:142: FutureWarning: In a future version of pandas all arguments of concat except for the argument 'objs' will be keyword-only\n",
      "  x = pd.concat(x[::order], 1)\n"
     ]
    }
   ],
   "source": [
    "# test for multicollinearity\n",
    "\n",
    "import statsmodels.api as sm\n",
    "from statsmodels.stats.outliers_influence import variance_inflation_factor\n",
    "\n",
    "\n",
    "\n",
    "\n",
    "selected_columns = ['Q49', 'Q288','Q275', 'Q250', 'Q164', 'Q287', 'Q262', 'Q260','Q273','Q45', 'Q47']\n",
    "df_selected = df_cleaned[selected_columns]\n",
    "\n",
    "\n",
    "X = sm.add_constant(df_selected)\n",
    "\n",
    "\n",
    "vif_data = pd.DataFrame()\n",
    "vif_data[\"Variable\"] = X.columns\n",
    "vif_data[\"VIF\"] = [variance_inflation_factor(X.values, i) for i in range(X.shape[1])]\n",
    "\n",
    "\n",
    "print(vif_data)\n"
   ]
  },
  {
   "cell_type": "code",
   "execution_count": null,
   "id": "f9a1c4d1",
   "metadata": {},
   "outputs": [],
   "source": [
    "\n",
    "\n",
    "\n",
    "\n",
    "\n",
    "\n",
    "\n",
    "\n"
   ]
  },
  {
   "cell_type": "code",
   "execution_count": 17,
   "id": "abe53f15",
   "metadata": {},
   "outputs": [
    {
     "name": "stdout",
     "output_type": "stream",
     "text": [
      "Spearman Correlation between Q49 and Q288:\n",
      "Correlation Coefficient: 0.17139698656237717\n",
      "P-value: 0.0\n",
      "\n",
      "\n",
      "Spearman Correlation between Q49 and Q275:\n",
      "Correlation Coefficient: nan\n",
      "P-value: nan\n",
      "\n",
      "\n",
      "Spearman Correlation between Q49 and Q250:\n",
      "Correlation Coefficient: 0.1538938189385846\n",
      "P-value: 0.0\n",
      "\n",
      "\n",
      "Spearman Correlation between Q49 and Q164:\n",
      "Correlation Coefficient: 0.12690842517289913\n",
      "P-value: 0.0\n",
      "\n",
      "\n",
      "Spearman Correlation between Q49 and Q287:\n",
      "Correlation Coefficient: -0.1262742450991426\n",
      "P-value: 0.0\n",
      "\n",
      "\n",
      "Spearman Correlation between Q49 and Q262:\n",
      "Correlation Coefficient: 0.018773211989478577\n",
      "P-value: 8.180601378468564e-09\n",
      "\n",
      "\n",
      "Spearman Correlation between Q49 and Q260:\n",
      "Correlation Coefficient: 0.010666831111803584\n",
      "P-value: 0.0010556078327589146\n",
      "\n",
      "\n",
      "Spearman Correlation between Q49 and Q273:\n",
      "Correlation Coefficient: -0.04813923903157425\n",
      "P-value: 1.714808985544932e-49\n",
      "\n",
      "\n",
      "Spearman Correlation between Q49 and Q45:\n",
      "Correlation Coefficient: -0.087731409726767\n",
      "P-value: 1.9693847048885364e-160\n",
      "\n",
      "\n",
      "Spearman Correlation between Q49 and Q47:\n",
      "Correlation Coefficient: -0.27566874951913917\n",
      "P-value: 0.0\n",
      "\n",
      "\n"
     ]
    }
   ],
   "source": [
    "from scipy.stats import spearmanr\n",
    "\n",
    "\n",
    "target_variable = 'Q49'\n",
    "other_variables = ['Q288', 'Q275', 'Q250', 'Q164', 'Q287', 'Q262', 'Q260','Q273','Q45', 'Q47']\n",
    "\n",
    "correlation_results = {}\n",
    "for var in other_variables:\n",
    "    corr, p_value = spearmanr(df[target_variable], df[var])\n",
    "    correlation_results[var] = {'correlation': corr, 'p-value': p_value}\n",
    "    \n",
    "for var, values in correlation_results.items():\n",
    "    print(f\"Spearman Correlation between {target_variable} and {var}:\")\n",
    "    print(f\"Correlation Coefficient: {values['correlation']}\")\n",
    "    print(f\"P-value: {values['p-value']}\")\n",
    "    print(\"\\n\")"
   ]
  },
  {
   "cell_type": "code",
   "execution_count": 18,
   "id": "768ea579",
   "metadata": {},
   "outputs": [
    {
     "name": "stdout",
     "output_type": "stream",
     "text": [
      "Accuracy: 0.27\n",
      "                            OLS Regression Results                            \n",
      "==============================================================================\n",
      "Dep. Variable:                    Q49   R-squared:                       0.146\n",
      "Model:                            OLS   Adj. R-squared:                  0.141\n",
      "Method:                 Least Squares   F-statistic:                     28.47\n",
      "Date:                Tue, 23 Jan 2024   Prob (F-statistic):           7.83e-51\n",
      "Time:                        21:26:39   Log-Likelihood:                -3316.5\n",
      "No. Observations:                1681   AIC:                             6655.\n",
      "Df Residuals:                    1670   BIC:                             6715.\n",
      "Df Model:                          10                                         \n",
      "Covariance Type:            nonrobust                                         \n",
      "==============================================================================\n",
      "                 coef    std err          t      P>|t|      [0.025      0.975]\n",
      "------------------------------------------------------------------------------\n",
      "const          7.2754      0.420     17.313      0.000       6.451       8.100\n",
      "Q288           0.1514      0.021      7.258      0.000       0.111       0.192\n",
      "Q275          -0.0471      0.023     -2.066      0.039      -0.092      -0.002\n",
      "Q250           0.0496      0.022      2.233      0.026       0.006       0.093\n",
      "Q164           0.0400      0.013      3.175      0.002       0.015       0.065\n",
      "Q287          -0.0480      0.048     -1.000      0.317      -0.142       0.046\n",
      "Q262           0.0111      0.003      4.305      0.000       0.006       0.016\n",
      "Q260           0.1607      0.082      1.963      0.050       0.000       0.321\n",
      "Q273          -0.0315      0.023     -1.392      0.164      -0.076       0.013\n",
      "Q45           -0.2655      0.069     -3.836      0.000      -0.401      -0.130\n",
      "Q47           -0.5567      0.050    -11.240      0.000      -0.654      -0.460\n",
      "==============================================================================\n",
      "Omnibus:                      537.801   Durbin-Watson:                   2.001\n",
      "Prob(Omnibus):                  0.000   Jarque-Bera (JB):             2244.760\n",
      "Skew:                          -1.490   Prob(JB):                         0.00\n",
      "Kurtosis:                       7.813   Cond. No.                         522.\n",
      "==============================================================================\n",
      "\n",
      "Notes:\n",
      "[1] Standard Errors assume that the covariance matrix of the errors is correctly specified.\n"
     ]
    },
    {
     "name": "stderr",
     "output_type": "stream",
     "text": [
      "C:\\Users\\aaqib\\anaconda3\\lib\\site-packages\\statsmodels\\tsa\\tsatools.py:142: FutureWarning: In a future version of pandas all arguments of concat except for the argument 'objs' will be keyword-only\n",
      "  x = pd.concat(x[::order], 1)\n"
     ]
    }
   ],
   "source": [
    "from sklearn.model_selection import train_test_split\n",
    "import statsmodels.api as sm\n",
    "from sklearn.metrics import accuracy_score\n",
    "# Setting up X (independent variables) and Y (dependent variable)\n",
    "X = df_cleaned [['Q288', 'Q275', 'Q250', 'Q164', 'Q287', 'Q262', 'Q260','Q273','Q45','Q47']]\n",
    "Y = df_cleaned ['Q49']\n",
    "\n",
    "X = sm.add_constant(X)\n",
    "\n",
    "# Split the data into training and testing sets\n",
    "X_train, X_test, Y_train, Y_test = train_test_split(X, Y, test_size=0.2, random_state=42)\n",
    "\n",
    "# Creating and fitting the ordered logistic regression model\n",
    "model = sm.OLS(Y_train, X_train).fit()\n",
    "\n",
    "# Prediction on the test set\n",
    "Y_pred = model.predict(X_test)\n",
    "\n",
    "# Converting predicted values to integer (since Y is ordinal)\n",
    "Y_pred = Y_pred.round().astype(int)\n",
    "\n",
    "# Evaluating accuracy\n",
    "accuracy = accuracy_score(Y_test, Y_pred)\n",
    "print(f\"Accuracy: {accuracy:.2f}\")\n",
    "\n",
    "# Displaying model summary\n",
    "print(model.summary())"
   ]
  },
  {
   "cell_type": "code",
   "execution_count": null,
   "id": "7e3f78b7",
   "metadata": {},
   "outputs": [],
   "source": [
    "\n"
   ]
  },
  {
   "cell_type": "code",
   "execution_count": null,
   "id": "a910d3da",
   "metadata": {},
   "outputs": [],
   "source": []
  },
  {
   "cell_type": "code",
   "execution_count": null,
   "id": "ffb98d9c",
   "metadata": {},
   "outputs": [],
   "source": []
  }
 ],
 "metadata": {
  "kernelspec": {
   "display_name": "Python 3 (ipykernel)",
   "language": "python",
   "name": "python3"
  },
  "language_info": {
   "codemirror_mode": {
    "name": "ipython",
    "version": 3
   },
   "file_extension": ".py",
   "mimetype": "text/x-python",
   "name": "python",
   "nbconvert_exporter": "python",
   "pygments_lexer": "ipython3",
   "version": "3.9.7"
  }
 },
 "nbformat": 4,
 "nbformat_minor": 5
}
